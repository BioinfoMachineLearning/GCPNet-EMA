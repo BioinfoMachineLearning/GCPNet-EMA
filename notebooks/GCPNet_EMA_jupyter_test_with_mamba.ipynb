{
 "cells": [
  {
   "cell_type": "markdown",
   "metadata": {
    "id": "DE3k9O4HSIoj"
   },
   "source": [
    "install take ~25min；https://github.com/BioinfoMachineLearning/GCPNet-EMA"
   ]
  },
  {
   "cell_type": "code",
   "execution_count": null,
   "metadata": {
    "colab": {
     "base_uri": "https://localhost:8080/"
    },
    "id": "MFp6ZTfHPRhw",
    "outputId": "c7f649e0-7fb4-4552-b23f-87f7186cd948"
   },
   "outputs": [],
   "source": [
    "from IPython.utils import io\n",
    "import os\n",
    "import sys\n",
    "%shell rm -rf /opt/conda\n",
    "%shell wget -q -P /tmp \\\n",
    "  https://github.com/conda-forge/miniforge/releases/latest/download/Mambaforge-$(uname)-$(uname -m).sh \\\n",
    "    && bash /tmp/Mambaforge-$(uname)-$(uname -m).sh -b -p /opt/conda \\\n",
    "    && rm /tmp/Mambaforge-$(uname)-$(uname -m).sh\n",
    "PATH=%env PATH\n",
    "%env PATH=/opt/conda/bin:{PATH}\n",
    "%shell rm -rf /content/GCPNet-EMA\n",
    "!git clone https://github.com/BioinfoMachineLearning/GCPNet-EMA.git\n",
    "!cd /content/GCPNet-EMA\n",
    "%shell mamba env create -f /content/GCPNet-EMA/cpu_environment.yaml #environment.yaml"
   ]
  },
  {
   "cell_type": "code",
   "execution_count": null,
   "metadata": {
    "colab": {
     "base_uri": "https://localhost:8080/"
    },
    "id": "vB7O6QxfaXG2",
    "outputId": "d42d8c02-6545-44a9-e83d-66ec5572a470"
   },
   "outputs": [],
   "source": [
    "%%shell\n",
    "cd /content/GCPNet-EMA/data/EMA\n",
    "wget https://zenodo.org/record/10719475/files/ema_decoy_model.tar.gz\n",
    "wget https://zenodo.org/record/10719475/files/ema_true_model.tar.gz\n",
    "tar -xzf ema_decoy_model.tar.gz\n",
    "tar -xzf ema_true_model.tar.gz\n",
    "wget https://zhanggroup.org/TM-score/TMscore.cpp\n",
    "g++ -static -O3 -ffast-math -lm -o TMscore TMscore.cpp\n",
    "\n",
    "source activate GCPNet-EMA\n",
    "python -V\n",
    "cd /content/GCPNet-EMA\n",
    "pip install -e .\n",
    "# install ProDy separately to avoid a Biopython version conflict with Ankh\n",
    "pip install prody==2.4.1\n",
    "# uninstall protobuf (if installed) due to (potential) local GLIBCXX conflicts\n",
    "pip uninstall -y protobuf\n",
    "pip list"
   ]
  },
  {
   "cell_type": "markdown",
   "metadata": {
    "id": "vdml19h4VkPl"
   },
   "source": [
    "Download all checkpoints"
   ]
  },
  {
   "cell_type": "code",
   "execution_count": null,
   "metadata": {
    "id": "-21aY15hViZV"
   },
   "outputs": [],
   "source": [
    "%%shell\n",
    "wget -P checkpoints/ https://zenodo.org/record/10719475/files/structure_ema_finetuned_gcpnet_i2d5t9xh_best_epoch_106.ckpt\n",
    "wget -P checkpoints/ https://zenodo.org/record/10719475/files/structure_denoising_pretrained_gcpnet.ckpt\n",
    "wget -P checkpoints/ https://zenodo.org/record/10719475/files/structure_ema_finetuned_gcpnet_without_plddt_ije6iplr_best_epoch_055.ckpt\n",
    "wget -P checkpoints/ https://zenodo.org/record/10719475/files/default_structure_ema_finetuned_gcpnet_without_plddt_or_esm_emb_p0p8c6pz_best_epoch_099.ckpt\n",
    "wget -P checkpoints/ https://zenodo.org/record/10719475/files/structure_ema_finetuned_gcpnet_without_esm_emb_x8tjgsf4_best_epoch_027.ckpt"
   ]
  },
  {
   "cell_type": "markdown",
   "metadata": {
    "id": "wTk3DKnIo5v3"
   },
   "source": [
    "Edit configs/paths/default.yaml"
   ]
  },
  {
   "cell_type": "code",
   "execution_count": null,
   "metadata": {
    "id": "8dX17tEkqm53"
   },
   "outputs": [],
   "source": [
    "import sys\n",
    "\n",
    "sys.path.append(\"/opt/conda/lib/python3.11/site-packages\")\n",
    "sys.path.append(\"/opt/conda/envs/GCPNet-EMA/lib/python3.10/site-packages\")\n",
    "sys.path.append(\"/content/GCPNet-EMA\")\n",
    "sys.path.append(\"/opt/conda/envs/GCPNet-EMA\")\n",
    "\n",
    "file_path = \"/content/GCPNet-EMA/configs/paths/default.yaml\"\n",
    "line_number = 24\n",
    "root_dir = \"root_dir: .\"  # ???\n",
    "tmscore_path = \"tmscore_exec_path: /content/GCPNet-EMA/data/EMA/TMscore\"\n",
    "lddt_path = \"lddt_exec_path: /opt/conda/envs/GCPNet-EMA/bin/lddt\"\n",
    "\n",
    "# Read the file and modify the content\n",
    "with open(file_path, \"r\") as file:\n",
    "    lines = file.readlines()\n",
    "    lines[3] = root_dir + \"\\n\"\n",
    "    lines[line_number - 1] = tmscore_path + \"\\n\"\n",
    "    lines[line_number] = lddt_path + \"\\n\"\n",
    "\n",
    "# Write the modified content back to the file\n",
    "with open(file_path, \"w\") as file:\n",
    "    file.writelines(lines)"
   ]
  },
  {
   "cell_type": "code",
   "execution_count": null,
   "metadata": {
    "colab": {
     "base_uri": "https://localhost:8080/",
     "height": 356
    },
    "id": "83jOUU8rckif",
    "outputId": "4fbe9b54-827a-498f-e1ad-25cd90a6e1ef"
   },
   "outputs": [],
   "source": [
    "%%shell\n",
    "source activate GCPNet-EMA\n",
    "cd /content/GCPNet-EMA\n",
    "python src/train.py experiment=/content/GCPNet-EMA/configs/model/gcpnet_ema.yaml"
   ]
  }
 ],
 "metadata": {
  "colab": {
   "provenance": []
  },
  "kernelspec": {
   "display_name": "Python 3",
   "name": "python3"
  },
  "language_info": {
   "name": "python"
  }
 },
 "nbformat": 4,
 "nbformat_minor": 0
}
